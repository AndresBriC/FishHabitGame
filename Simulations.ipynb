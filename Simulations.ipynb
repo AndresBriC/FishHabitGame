{
 "cells": [
  {
   "cell_type": "code",
   "execution_count": 2,
   "metadata": {},
   "outputs": [],
   "source": [
    "import random\n",
    "import copy\n",
    "import numpy as np"
   ]
  },
  {
   "cell_type": "markdown",
   "metadata": {},
   "source": [
    "*Why do this?*\n",
    "\n",
    "The idea here is to have a way to test and get the probabilities of finding certain types of fish throught your playthroughs, and eventually when taking into account different types of modifiers like bait or better fishing rods.\n",
    "\n",
    "## TODO\n",
    "Get the probabilites of getting a specific fish."
   ]
  },
  {
   "cell_type": "code",
   "execution_count": null,
   "metadata": {},
   "outputs": [
    {
     "name": "stdout",
     "output_type": "stream",
     "text": [
      "Expected frequencies: {'common': 54.0, 'uncommon': 22.5, 'rare': 11.25, 'exotic': 2.25} in 30 days\n"
     ]
    }
   ],
   "source": [
    "spawn_probabilities = {\"common\": 0.6, \"uncommon\": 0.25, \"rare\": 0.125, \"exotic\": 0.025}\n",
    "\n",
    "# Makes sure that the probabilities add to 1\n",
    "total_probability = sum(spawn_probabilities.values())\n",
    "if total_probability != 1:\n",
    "    raise ValueError(f\"Total probability should add to 1 but it's {total_probability}\")\n",
    "\n",
    "days = 30  # Period you want to visualize\n",
    "appear_per_day = 3  # How many fish appear per day\n",
    "\n",
    "frequencies = {\n",
    "    rarity: probability * days * appear_per_day\n",
    "    for rarity, probability in spawn_probabilities.items()\n",
    "}  # Expected frequencies\n",
    "\n",
    "print(f\"Expected frequencies: {frequencies} in {days} days\")"
   ]
  },
  {
   "cell_type": "code",
   "execution_count": 7,
   "metadata": {},
   "outputs": [
    {
     "name": "stdout",
     "output_type": "stream",
     "text": [
      "common\n"
     ]
    }
   ],
   "source": [
    "spawn_probabilities = {\"common\": 0.6, \"uncommon\": 0.25, \"rare\": 0.125, \"exotic\": 0.025}\n",
    "choice = np.random.choice(\n",
    "    [\"common\", \"uncommon\", \"rare\", \"exotic\"],\n",
    "    p=[\n",
    "        spawn_probabilities[\"common\"],\n",
    "        spawn_probabilities[\"uncommon\"],\n",
    "        spawn_probabilities[\"rare\"],\n",
    "        spawn_probabilities[\"exotic\"],\n",
    "    ],\n",
    ")\n",
    "print(choice)"
   ]
  }
 ],
 "metadata": {
  "kernelspec": {
   "display_name": "FishGame",
   "language": "python",
   "name": "python3"
  },
  "language_info": {
   "codemirror_mode": {
    "name": "ipython",
    "version": 3
   },
   "file_extension": ".py",
   "mimetype": "text/x-python",
   "name": "python",
   "nbconvert_exporter": "python",
   "pygments_lexer": "ipython3",
   "version": "3.12.9"
  }
 },
 "nbformat": 4,
 "nbformat_minor": 2
}
